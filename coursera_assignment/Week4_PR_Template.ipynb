{
 "cells": [
  {
   "cell_type": "markdown",
   "metadata": {},
   "source": [
    "# Week 4 Peer Review"
   ]
  },
  {
   "cell_type": "markdown",
   "metadata": {},
   "source": [
    "Week 4 Peer Review - Working with Distributions and DataFrames. To help you with this task, comments are added to each cell."
   ]
  },
  {
   "cell_type": "code",
   "execution_count": 2,
   "metadata": {},
   "outputs": [],
   "source": [
    "# Import the required packages\n",
    "using Distributions, DataFrames"
   ]
  },
  {
   "cell_type": "code",
   "execution_count": 2,
   "metadata": {},
   "outputs": [
    {
     "ename": "UndefVarError",
     "evalue": "UndefVarError: srand not defined",
     "output_type": "error",
     "traceback": [
      "UndefVarError: srand not defined",
      "",
      "Stacktrace:",
      " [1] top-level scope at In[2]:1"
     ]
    }
   ],
   "source": [
    "# Seed the random number generator\n",
    "srand(1234);"
   ]
  },
  {
   "cell_type": "code",
   "execution_count": 3,
   "metadata": {},
   "outputs": [
    {
     "data": {
      "text/plain": [
       "30×3 Array{Float64,2}:\n",
       " 0.773817   10.764     8.0\n",
       " 0.811597    7.34033   9.0\n",
       " 0.893235   11.2522   11.0\n",
       " 0.563344   15.9879   15.0\n",
       " 0.170243   11.6656   14.0\n",
       " 0.257684   14.8144   10.0\n",
       " 0.888013    9.4384   10.0\n",
       " 0.679296    8.80718  13.0\n",
       " 0.205036   11.4063    7.0\n",
       " 0.890285    9.59052   5.0\n",
       " 0.168486   13.6154   11.0\n",
       " 0.7012     11.0726   12.0\n",
       " 0.207848   11.872     6.0\n",
       " ⋮                        \n",
       " 0.390719    8.90974   8.0\n",
       " 0.105806    8.38163  11.0\n",
       " 0.292351    6.58396   6.0\n",
       " 0.465879    9.51567  14.0\n",
       " 0.63841    11.3858    8.0\n",
       " 0.0933107   7.43437  12.0\n",
       " 0.398626    9.41665  14.0\n",
       " 0.472634    8.08634   5.0\n",
       " 0.15303    13.1014   10.0\n",
       " 0.935445   13.3166   15.0\n",
       " 0.049288    7.23733   8.0\n",
       " 0.806641    9.21733  12.0"
      ]
     },
     "execution_count": 3,
     "metadata": {},
     "output_type": "execute_result"
    }
   ],
   "source": [
    "# Question 4: Create the 3 x 30 array named array_1\n",
    "array_1 =[rand(30) rand(Normal(10,2),30) rand(5:15,30)] \n"
   ]
  },
  {
   "cell_type": "code",
   "execution_count": 5,
   "metadata": {},
   "outputs": [
    {
     "data": {
      "text/plain": [
       "30×3 Array{Float64,2}:\n",
       " 0.358321   10.2156   11.0\n",
       " 0.360731   12.624    10.0\n",
       " 0.230269    9.47592   8.0\n",
       " 0.34472    11.3712   11.0\n",
       " 0.821284    8.61355  11.0\n",
       " 0.162836   13.4577   15.0\n",
       " 0.866049   15.5669    8.0\n",
       " 0.0735025   9.8031   11.0\n",
       " 0.437606   10.6067    7.0\n",
       " 0.264748    9.91929   9.0\n",
       " 0.878577    8.06605   7.0\n",
       " 0.488354   11.9355   11.0\n",
       " 0.412494   11.8381    9.0\n",
       " ⋮                        \n",
       " 0.748273    9.90383  11.0\n",
       " 0.652191   14.7986   11.0\n",
       " 0.0428449  11.8319    9.0\n",
       " 0.864452   11.02      9.0\n",
       " 0.891711   11.496    10.0\n",
       " 0.521243    7.80415  14.0\n",
       " 0.301125    7.73562  14.0\n",
       " 0.517325    9.44229  10.0\n",
       " 0.802277   11.4909   14.0\n",
       " 0.777462    8.17799   9.0\n",
       " 0.808756    8.57945  12.0\n",
       " 0.569041    7.66903  14.0"
      ]
     },
     "execution_count": 5,
     "metadata": {},
     "output_type": "execute_result"
    }
   ],
   "source": [
    "array_1 =[rand(30) rand(Normal(10,2),30) rand(5:15,30)] "
   ]
  },
  {
   "cell_type": "code",
   "execution_count": 7,
   "metadata": {},
   "outputs": [
    {
     "name": "stdout",
     "output_type": "stream",
     "text": [
      "mean:0.5491469116231781 and var:0.07990567052073189\n"
     ]
    }
   ],
   "source": [
    "# Question 5: Mean and variance of column 1\n",
    "println(\"mean:\",mean(array_1[:,1]),\" and var:\",var(array_1[:,1]))"
   ]
  },
  {
   "cell_type": "code",
   "execution_count": 8,
   "metadata": {},
   "outputs": [
    {
     "name": "stdout",
     "output_type": "stream",
     "text": [
      "mean:10.337334764929881 and var:4.537773589085106\n"
     ]
    }
   ],
   "source": [
    "# Question 5 (continued): Mean and variance of column 2\n",
    "println(\"mean:\",mean(array_1[:,2]),\" and var:\",var(array_1[:,2]))"
   ]
  },
  {
   "cell_type": "code",
   "execution_count": 9,
   "metadata": {},
   "outputs": [
    {
     "name": "stdout",
     "output_type": "stream",
     "text": [
      "mean:10.366666666666667 and var:5.412643678160919\n"
     ]
    }
   ],
   "source": [
    "# Question 5 (continued): Mean and variance of column 3\n",
    "println(\"mean:\",mean(array_1[:,3]),\" and var:\",var(array_1[:,3]))"
   ]
  },
  {
   "cell_type": "code",
   "execution_count": 10,
   "metadata": {},
   "outputs": [
    {
     "data": {
      "text/html": [
       "<table class=\"data-frame\"><thead><tr><th></th><th>x1</th><th>x2</th><th>x3</th></tr><tr><th></th><th>Float64</th><th>Float64</th><th>Float64</th></tr></thead><tbody><p>30 rows × 3 columns</p><tr><th>1</th><td>0.358321</td><td>10.2156</td><td>11.0</td></tr><tr><th>2</th><td>0.360731</td><td>12.624</td><td>10.0</td></tr><tr><th>3</th><td>0.230269</td><td>9.47592</td><td>8.0</td></tr><tr><th>4</th><td>0.34472</td><td>11.3712</td><td>11.0</td></tr><tr><th>5</th><td>0.821284</td><td>8.61355</td><td>11.0</td></tr><tr><th>6</th><td>0.162836</td><td>13.4577</td><td>15.0</td></tr><tr><th>7</th><td>0.866049</td><td>15.5669</td><td>8.0</td></tr><tr><th>8</th><td>0.0735025</td><td>9.8031</td><td>11.0</td></tr><tr><th>9</th><td>0.437606</td><td>10.6067</td><td>7.0</td></tr><tr><th>10</th><td>0.264748</td><td>9.91929</td><td>9.0</td></tr><tr><th>11</th><td>0.878577</td><td>8.06605</td><td>7.0</td></tr><tr><th>12</th><td>0.488354</td><td>11.9355</td><td>11.0</td></tr><tr><th>13</th><td>0.412494</td><td>11.8381</td><td>9.0</td></tr><tr><th>14</th><td>0.835925</td><td>7.59</td><td>12.0</td></tr><tr><th>15</th><td>0.685058</td><td>11.586</td><td>9.0</td></tr><tr><th>16</th><td>0.063973</td><td>11.2391</td><td>10.0</td></tr><tr><th>17</th><td>0.698442</td><td>8.08366</td><td>5.0</td></tr><tr><th>18</th><td>0.994817</td><td>8.17779</td><td>10.0</td></tr><tr><th>19</th><td>0.748273</td><td>9.90383</td><td>11.0</td></tr><tr><th>20</th><td>0.652191</td><td>14.7986</td><td>11.0</td></tr><tr><th>21</th><td>0.0428449</td><td>11.8319</td><td>9.0</td></tr><tr><th>22</th><td>0.864452</td><td>11.02</td><td>9.0</td></tr><tr><th>23</th><td>0.891711</td><td>11.496</td><td>10.0</td></tr><tr><th>24</th><td>0.521243</td><td>7.80415</td><td>14.0</td></tr><tr><th>25</th><td>0.301125</td><td>7.73562</td><td>14.0</td></tr><tr><th>26</th><td>0.517325</td><td>9.44229</td><td>10.0</td></tr><tr><th>27</th><td>0.802277</td><td>11.4909</td><td>14.0</td></tr><tr><th>28</th><td>0.777462</td><td>8.17799</td><td>9.0</td></tr><tr><th>29</th><td>0.808756</td><td>8.57945</td><td>12.0</td></tr><tr><th>30</th><td>0.569041</td><td>7.66903</td><td>14.0</td></tr></tbody></table>"
      ],
      "text/latex": [
       "\\begin{tabular}{r|ccc}\n",
       "\t& x1 & x2 & x3\\\\\n",
       "\t\\hline\n",
       "\t1 & 0.358321 & 10.2156 & 11.0 \\\\\n",
       "\t2 & 0.360731 & 12.624 & 10.0 \\\\\n",
       "\t3 & 0.230269 & 9.47592 & 8.0 \\\\\n",
       "\t4 & 0.34472 & 11.3712 & 11.0 \\\\\n",
       "\t5 & 0.821284 & 8.61355 & 11.0 \\\\\n",
       "\t6 & 0.162836 & 13.4577 & 15.0 \\\\\n",
       "\t7 & 0.866049 & 15.5669 & 8.0 \\\\\n",
       "\t8 & 0.0735025 & 9.8031 & 11.0 \\\\\n",
       "\t9 & 0.437606 & 10.6067 & 7.0 \\\\\n",
       "\t10 & 0.264748 & 9.91929 & 9.0 \\\\\n",
       "\t11 & 0.878577 & 8.06605 & 7.0 \\\\\n",
       "\t12 & 0.488354 & 11.9355 & 11.0 \\\\\n",
       "\t13 & 0.412494 & 11.8381 & 9.0 \\\\\n",
       "\t14 & 0.835925 & 7.59 & 12.0 \\\\\n",
       "\t15 & 0.685058 & 11.586 & 9.0 \\\\\n",
       "\t16 & 0.063973 & 11.2391 & 10.0 \\\\\n",
       "\t17 & 0.698442 & 8.08366 & 5.0 \\\\\n",
       "\t18 & 0.994817 & 8.17779 & 10.0 \\\\\n",
       "\t19 & 0.748273 & 9.90383 & 11.0 \\\\\n",
       "\t20 & 0.652191 & 14.7986 & 11.0 \\\\\n",
       "\t21 & 0.0428449 & 11.8319 & 9.0 \\\\\n",
       "\t22 & 0.864452 & 11.02 & 9.0 \\\\\n",
       "\t23 & 0.891711 & 11.496 & 10.0 \\\\\n",
       "\t24 & 0.521243 & 7.80415 & 14.0 \\\\\n",
       "\t25 & 0.301125 & 7.73562 & 14.0 \\\\\n",
       "\t26 & 0.517325 & 9.44229 & 10.0 \\\\\n",
       "\t27 & 0.802277 & 11.4909 & 14.0 \\\\\n",
       "\t28 & 0.777462 & 8.17799 & 9.0 \\\\\n",
       "\t29 & 0.808756 & 8.57945 & 12.0 \\\\\n",
       "\t30 & 0.569041 & 7.66903 & 14.0 \\\\\n",
       "\\end{tabular}\n"
      ],
      "text/plain": [
       "30×3 DataFrame\n",
       "│ Row │ x1        │ x2      │ x3      │\n",
       "│     │ \u001b[90mFloat64\u001b[39m   │ \u001b[90mFloat64\u001b[39m │ \u001b[90mFloat64\u001b[39m │\n",
       "├─────┼───────────┼─────────┼─────────┤\n",
       "│ 1   │ 0.358321  │ 10.2156 │ 11.0    │\n",
       "│ 2   │ 0.360731  │ 12.624  │ 10.0    │\n",
       "│ 3   │ 0.230269  │ 9.47592 │ 8.0     │\n",
       "│ 4   │ 0.34472   │ 11.3712 │ 11.0    │\n",
       "│ 5   │ 0.821284  │ 8.61355 │ 11.0    │\n",
       "│ 6   │ 0.162836  │ 13.4577 │ 15.0    │\n",
       "│ 7   │ 0.866049  │ 15.5669 │ 8.0     │\n",
       "│ 8   │ 0.0735025 │ 9.8031  │ 11.0    │\n",
       "│ 9   │ 0.437606  │ 10.6067 │ 7.0     │\n",
       "│ 10  │ 0.264748  │ 9.91929 │ 9.0     │\n",
       "⋮\n",
       "│ 20  │ 0.652191  │ 14.7986 │ 11.0    │\n",
       "│ 21  │ 0.0428449 │ 11.8319 │ 9.0     │\n",
       "│ 22  │ 0.864452  │ 11.02   │ 9.0     │\n",
       "│ 23  │ 0.891711  │ 11.496  │ 10.0    │\n",
       "│ 24  │ 0.521243  │ 7.80415 │ 14.0    │\n",
       "│ 25  │ 0.301125  │ 7.73562 │ 14.0    │\n",
       "│ 26  │ 0.517325  │ 9.44229 │ 10.0    │\n",
       "│ 27  │ 0.802277  │ 11.4909 │ 14.0    │\n",
       "│ 28  │ 0.777462  │ 8.17799 │ 9.0     │\n",
       "│ 29  │ 0.808756  │ 8.57945 │ 12.0    │\n",
       "│ 30  │ 0.569041  │ 7.66903 │ 14.0    │"
      ]
     },
     "execution_count": 10,
     "metadata": {},
     "output_type": "execute_result"
    }
   ],
   "source": [
    "# Question 6: Import array_1 into a DataFrame named df\n",
    "df = DataFrame(array_1)\n"
   ]
  },
  {
   "cell_type": "code",
   "execution_count": 11,
   "metadata": {},
   "outputs": [
    {
     "data": {
      "text/html": [
       "<table class=\"data-frame\"><thead><tr><th></th><th>Var1</th><th>Var2</th><th>Var3</th></tr><tr><th></th><th>Float64</th><th>Float64</th><th>Float64</th></tr></thead><tbody><p>30 rows × 3 columns</p><tr><th>1</th><td>0.358321</td><td>10.2156</td><td>11.0</td></tr><tr><th>2</th><td>0.360731</td><td>12.624</td><td>10.0</td></tr><tr><th>3</th><td>0.230269</td><td>9.47592</td><td>8.0</td></tr><tr><th>4</th><td>0.34472</td><td>11.3712</td><td>11.0</td></tr><tr><th>5</th><td>0.821284</td><td>8.61355</td><td>11.0</td></tr><tr><th>6</th><td>0.162836</td><td>13.4577</td><td>15.0</td></tr><tr><th>7</th><td>0.866049</td><td>15.5669</td><td>8.0</td></tr><tr><th>8</th><td>0.0735025</td><td>9.8031</td><td>11.0</td></tr><tr><th>9</th><td>0.437606</td><td>10.6067</td><td>7.0</td></tr><tr><th>10</th><td>0.264748</td><td>9.91929</td><td>9.0</td></tr><tr><th>11</th><td>0.878577</td><td>8.06605</td><td>7.0</td></tr><tr><th>12</th><td>0.488354</td><td>11.9355</td><td>11.0</td></tr><tr><th>13</th><td>0.412494</td><td>11.8381</td><td>9.0</td></tr><tr><th>14</th><td>0.835925</td><td>7.59</td><td>12.0</td></tr><tr><th>15</th><td>0.685058</td><td>11.586</td><td>9.0</td></tr><tr><th>16</th><td>0.063973</td><td>11.2391</td><td>10.0</td></tr><tr><th>17</th><td>0.698442</td><td>8.08366</td><td>5.0</td></tr><tr><th>18</th><td>0.994817</td><td>8.17779</td><td>10.0</td></tr><tr><th>19</th><td>0.748273</td><td>9.90383</td><td>11.0</td></tr><tr><th>20</th><td>0.652191</td><td>14.7986</td><td>11.0</td></tr><tr><th>21</th><td>0.0428449</td><td>11.8319</td><td>9.0</td></tr><tr><th>22</th><td>0.864452</td><td>11.02</td><td>9.0</td></tr><tr><th>23</th><td>0.891711</td><td>11.496</td><td>10.0</td></tr><tr><th>24</th><td>0.521243</td><td>7.80415</td><td>14.0</td></tr><tr><th>25</th><td>0.301125</td><td>7.73562</td><td>14.0</td></tr><tr><th>26</th><td>0.517325</td><td>9.44229</td><td>10.0</td></tr><tr><th>27</th><td>0.802277</td><td>11.4909</td><td>14.0</td></tr><tr><th>28</th><td>0.777462</td><td>8.17799</td><td>9.0</td></tr><tr><th>29</th><td>0.808756</td><td>8.57945</td><td>12.0</td></tr><tr><th>30</th><td>0.569041</td><td>7.66903</td><td>14.0</td></tr></tbody></table>"
      ],
      "text/latex": [
       "\\begin{tabular}{r|ccc}\n",
       "\t& Var1 & Var2 & Var3\\\\\n",
       "\t\\hline\n",
       "\t1 & 0.358321 & 10.2156 & 11.0 \\\\\n",
       "\t2 & 0.360731 & 12.624 & 10.0 \\\\\n",
       "\t3 & 0.230269 & 9.47592 & 8.0 \\\\\n",
       "\t4 & 0.34472 & 11.3712 & 11.0 \\\\\n",
       "\t5 & 0.821284 & 8.61355 & 11.0 \\\\\n",
       "\t6 & 0.162836 & 13.4577 & 15.0 \\\\\n",
       "\t7 & 0.866049 & 15.5669 & 8.0 \\\\\n",
       "\t8 & 0.0735025 & 9.8031 & 11.0 \\\\\n",
       "\t9 & 0.437606 & 10.6067 & 7.0 \\\\\n",
       "\t10 & 0.264748 & 9.91929 & 9.0 \\\\\n",
       "\t11 & 0.878577 & 8.06605 & 7.0 \\\\\n",
       "\t12 & 0.488354 & 11.9355 & 11.0 \\\\\n",
       "\t13 & 0.412494 & 11.8381 & 9.0 \\\\\n",
       "\t14 & 0.835925 & 7.59 & 12.0 \\\\\n",
       "\t15 & 0.685058 & 11.586 & 9.0 \\\\\n",
       "\t16 & 0.063973 & 11.2391 & 10.0 \\\\\n",
       "\t17 & 0.698442 & 8.08366 & 5.0 \\\\\n",
       "\t18 & 0.994817 & 8.17779 & 10.0 \\\\\n",
       "\t19 & 0.748273 & 9.90383 & 11.0 \\\\\n",
       "\t20 & 0.652191 & 14.7986 & 11.0 \\\\\n",
       "\t21 & 0.0428449 & 11.8319 & 9.0 \\\\\n",
       "\t22 & 0.864452 & 11.02 & 9.0 \\\\\n",
       "\t23 & 0.891711 & 11.496 & 10.0 \\\\\n",
       "\t24 & 0.521243 & 7.80415 & 14.0 \\\\\n",
       "\t25 & 0.301125 & 7.73562 & 14.0 \\\\\n",
       "\t26 & 0.517325 & 9.44229 & 10.0 \\\\\n",
       "\t27 & 0.802277 & 11.4909 & 14.0 \\\\\n",
       "\t28 & 0.777462 & 8.17799 & 9.0 \\\\\n",
       "\t29 & 0.808756 & 8.57945 & 12.0 \\\\\n",
       "\t30 & 0.569041 & 7.66903 & 14.0 \\\\\n",
       "\\end{tabular}\n"
      ],
      "text/plain": [
       "30×3 DataFrame\n",
       "│ Row │ Var1      │ Var2    │ Var3    │\n",
       "│     │ \u001b[90mFloat64\u001b[39m   │ \u001b[90mFloat64\u001b[39m │ \u001b[90mFloat64\u001b[39m │\n",
       "├─────┼───────────┼─────────┼─────────┤\n",
       "│ 1   │ 0.358321  │ 10.2156 │ 11.0    │\n",
       "│ 2   │ 0.360731  │ 12.624  │ 10.0    │\n",
       "│ 3   │ 0.230269  │ 9.47592 │ 8.0     │\n",
       "│ 4   │ 0.34472   │ 11.3712 │ 11.0    │\n",
       "│ 5   │ 0.821284  │ 8.61355 │ 11.0    │\n",
       "│ 6   │ 0.162836  │ 13.4577 │ 15.0    │\n",
       "│ 7   │ 0.866049  │ 15.5669 │ 8.0     │\n",
       "│ 8   │ 0.0735025 │ 9.8031  │ 11.0    │\n",
       "│ 9   │ 0.437606  │ 10.6067 │ 7.0     │\n",
       "│ 10  │ 0.264748  │ 9.91929 │ 9.0     │\n",
       "⋮\n",
       "│ 20  │ 0.652191  │ 14.7986 │ 11.0    │\n",
       "│ 21  │ 0.0428449 │ 11.8319 │ 9.0     │\n",
       "│ 22  │ 0.864452  │ 11.02   │ 9.0     │\n",
       "│ 23  │ 0.891711  │ 11.496  │ 10.0    │\n",
       "│ 24  │ 0.521243  │ 7.80415 │ 14.0    │\n",
       "│ 25  │ 0.301125  │ 7.73562 │ 14.0    │\n",
       "│ 26  │ 0.517325  │ 9.44229 │ 10.0    │\n",
       "│ 27  │ 0.802277  │ 11.4909 │ 14.0    │\n",
       "│ 28  │ 0.777462  │ 8.17799 │ 9.0     │\n",
       "│ 29  │ 0.808756  │ 8.57945 │ 12.0    │\n",
       "│ 30  │ 0.569041  │ 7.66903 │ 14.0    │"
      ]
     },
     "execution_count": 11,
     "metadata": {},
     "output_type": "execute_result"
    }
   ],
   "source": [
    "# Question 7: Change the names of the columns to Var1, Var2, and Var3\n",
    "rename!(df,Dict(:x1=>:Var1,:x2=>:Var2,:x3=>:Var3))"
   ]
  },
  {
   "cell_type": "code",
   "execution_count": 13,
   "metadata": {},
   "outputs": [
    {
     "data": {
      "text/html": [
       "<table class=\"data-frame\"><thead><tr><th></th><th>Var1</th><th>Var2</th><th>Var3</th></tr><tr><th></th><th>Float64</th><th>Float64</th><th>Float64</th></tr></thead><tbody><p>20 rows × 3 columns</p><tr><th>1</th><td>0.878577</td><td>8.06605</td><td>7.0</td></tr><tr><th>2</th><td>0.488354</td><td>11.9355</td><td>11.0</td></tr><tr><th>3</th><td>0.412494</td><td>11.8381</td><td>9.0</td></tr><tr><th>4</th><td>0.835925</td><td>7.59</td><td>12.0</td></tr><tr><th>5</th><td>0.685058</td><td>11.586</td><td>9.0</td></tr><tr><th>6</th><td>0.063973</td><td>11.2391</td><td>10.0</td></tr><tr><th>7</th><td>0.698442</td><td>8.08366</td><td>5.0</td></tr><tr><th>8</th><td>0.994817</td><td>8.17779</td><td>10.0</td></tr><tr><th>9</th><td>0.748273</td><td>9.90383</td><td>11.0</td></tr><tr><th>10</th><td>0.652191</td><td>14.7986</td><td>11.0</td></tr><tr><th>11</th><td>0.0428449</td><td>11.8319</td><td>9.0</td></tr><tr><th>12</th><td>0.864452</td><td>11.02</td><td>9.0</td></tr><tr><th>13</th><td>0.891711</td><td>11.496</td><td>10.0</td></tr><tr><th>14</th><td>0.521243</td><td>7.80415</td><td>14.0</td></tr><tr><th>15</th><td>0.301125</td><td>7.73562</td><td>14.0</td></tr><tr><th>16</th><td>0.517325</td><td>9.44229</td><td>10.0</td></tr><tr><th>17</th><td>0.802277</td><td>11.4909</td><td>14.0</td></tr><tr><th>18</th><td>0.777462</td><td>8.17799</td><td>9.0</td></tr><tr><th>19</th><td>0.808756</td><td>8.57945</td><td>12.0</td></tr><tr><th>20</th><td>0.569041</td><td>7.66903</td><td>14.0</td></tr></tbody></table>"
      ],
      "text/latex": [
       "\\begin{tabular}{r|ccc}\n",
       "\t& Var1 & Var2 & Var3\\\\\n",
       "\t\\hline\n",
       "\t1 & 0.878577 & 8.06605 & 7.0 \\\\\n",
       "\t2 & 0.488354 & 11.9355 & 11.0 \\\\\n",
       "\t3 & 0.412494 & 11.8381 & 9.0 \\\\\n",
       "\t4 & 0.835925 & 7.59 & 12.0 \\\\\n",
       "\t5 & 0.685058 & 11.586 & 9.0 \\\\\n",
       "\t6 & 0.063973 & 11.2391 & 10.0 \\\\\n",
       "\t7 & 0.698442 & 8.08366 & 5.0 \\\\\n",
       "\t8 & 0.994817 & 8.17779 & 10.0 \\\\\n",
       "\t9 & 0.748273 & 9.90383 & 11.0 \\\\\n",
       "\t10 & 0.652191 & 14.7986 & 11.0 \\\\\n",
       "\t11 & 0.0428449 & 11.8319 & 9.0 \\\\\n",
       "\t12 & 0.864452 & 11.02 & 9.0 \\\\\n",
       "\t13 & 0.891711 & 11.496 & 10.0 \\\\\n",
       "\t14 & 0.521243 & 7.80415 & 14.0 \\\\\n",
       "\t15 & 0.301125 & 7.73562 & 14.0 \\\\\n",
       "\t16 & 0.517325 & 9.44229 & 10.0 \\\\\n",
       "\t17 & 0.802277 & 11.4909 & 14.0 \\\\\n",
       "\t18 & 0.777462 & 8.17799 & 9.0 \\\\\n",
       "\t19 & 0.808756 & 8.57945 & 12.0 \\\\\n",
       "\t20 & 0.569041 & 7.66903 & 14.0 \\\\\n",
       "\\end{tabular}\n"
      ],
      "text/plain": [
       "20×3 DataFrame\n",
       "│ Row │ Var1      │ Var2    │ Var3    │\n",
       "│     │ \u001b[90mFloat64\u001b[39m   │ \u001b[90mFloat64\u001b[39m │ \u001b[90mFloat64\u001b[39m │\n",
       "├─────┼───────────┼─────────┼─────────┤\n",
       "│ 1   │ 0.878577  │ 8.06605 │ 7.0     │\n",
       "│ 2   │ 0.488354  │ 11.9355 │ 11.0    │\n",
       "│ 3   │ 0.412494  │ 11.8381 │ 9.0     │\n",
       "│ 4   │ 0.835925  │ 7.59    │ 12.0    │\n",
       "│ 5   │ 0.685058  │ 11.586  │ 9.0     │\n",
       "│ 6   │ 0.063973  │ 11.2391 │ 10.0    │\n",
       "│ 7   │ 0.698442  │ 8.08366 │ 5.0     │\n",
       "│ 8   │ 0.994817  │ 8.17779 │ 10.0    │\n",
       "│ 9   │ 0.748273  │ 9.90383 │ 11.0    │\n",
       "│ 10  │ 0.652191  │ 14.7986 │ 11.0    │\n",
       "│ 11  │ 0.0428449 │ 11.8319 │ 9.0     │\n",
       "│ 12  │ 0.864452  │ 11.02   │ 9.0     │\n",
       "│ 13  │ 0.891711  │ 11.496  │ 10.0    │\n",
       "│ 14  │ 0.521243  │ 7.80415 │ 14.0    │\n",
       "│ 15  │ 0.301125  │ 7.73562 │ 14.0    │\n",
       "│ 16  │ 0.517325  │ 9.44229 │ 10.0    │\n",
       "│ 17  │ 0.802277  │ 11.4909 │ 14.0    │\n",
       "│ 18  │ 0.777462  │ 8.17799 │ 9.0     │\n",
       "│ 19  │ 0.808756  │ 8.57945 │ 12.0    │\n",
       "│ 20  │ 0.569041  │ 7.66903 │ 14.0    │"
      ]
     },
     "execution_count": 13,
     "metadata": {},
     "output_type": "execute_result"
    }
   ],
   "source": [
    "# Question 8: Create and new DataFrame named df2 from the last 20 rows of df\n",
    "df2=last(df,20)"
   ]
  },
  {
   "cell_type": "code",
   "execution_count": 14,
   "metadata": {},
   "outputs": [
    {
     "data": {
      "text/html": [
       "<table class=\"data-frame\"><thead><tr><th></th><th>variable</th><th>mean</th><th>min</th><th>median</th><th>max</th><th>nunique</th><th>nmissing</th><th>eltype</th></tr><tr><th></th><th>Symbol</th><th>Float64</th><th>Float64</th><th>Float64</th><th>Float64</th><th>Nothing</th><th>Nothing</th><th>DataType</th></tr></thead><tbody><p>3 rows × 8 columns</p><tr><th>1</th><td>Var1</td><td>0.627717</td><td>0.0428449</td><td>0.69175</td><td>0.994817</td><td></td><td></td><td>Float64</td></tr><tr><th>2</th><td>Var2</td><td>9.9233</td><td>7.59</td><td>9.67306</td><td>14.7986</td><td></td><td></td><td>Float64</td></tr><tr><th>3</th><td>Var3</td><td>10.5</td><td>5.0</td><td>10.0</td><td>14.0</td><td></td><td></td><td>Float64</td></tr></tbody></table>"
      ],
      "text/latex": [
       "\\begin{tabular}{r|cccccccc}\n",
       "\t& variable & mean & min & median & max & nunique & nmissing & eltype\\\\\n",
       "\t\\hline\n",
       "\t1 & Var1 & 0.627717 & 0.0428449 & 0.69175 & 0.994817 &  &  & Float64 \\\\\n",
       "\t2 & Var2 & 9.9233 & 7.59 & 9.67306 & 14.7986 &  &  & Float64 \\\\\n",
       "\t3 & Var3 & 10.5 & 5.0 & 10.0 & 14.0 &  &  & Float64 \\\\\n",
       "\\end{tabular}\n"
      ],
      "text/plain": [
       "3×8 DataFrame. Omitted printing of 2 columns\n",
       "│ Row │ variable │ mean     │ min       │ median  │ max      │ nunique │\n",
       "│     │ \u001b[90mSymbol\u001b[39m   │ \u001b[90mFloat64\u001b[39m  │ \u001b[90mFloat64\u001b[39m   │ \u001b[90mFloat64\u001b[39m │ \u001b[90mFloat64\u001b[39m  │ \u001b[90mNothing\u001b[39m │\n",
       "├─────┼──────────┼──────────┼───────────┼─────────┼──────────┼─────────┤\n",
       "│ 1   │ Var1     │ 0.627717 │ 0.0428449 │ 0.69175 │ 0.994817 │         │\n",
       "│ 2   │ Var2     │ 9.9233   │ 7.59      │ 9.67306 │ 14.7986  │         │\n",
       "│ 3   │ Var3     │ 10.5     │ 5.0       │ 10.0    │ 14.0     │         │"
      ]
     },
     "execution_count": 14,
     "metadata": {},
     "output_type": "execute_result"
    }
   ],
   "source": [
    "# Question 9: Calculate simple descriptive statistics of all the columns in df2 using the describe() function\n",
    "describe(df2)"
   ]
  },
  {
   "cell_type": "code",
   "execution_count": 17,
   "metadata": {},
   "outputs": [
    {
     "data": {
      "text/html": [
       "<table class=\"data-frame\"><thead><tr><th></th><th>Var1</th><th>Var2</th><th>Var3</th><th>Cat1</th></tr><tr><th></th><th>Float64</th><th>Float64</th><th>Float64</th><th>String</th></tr></thead><tbody><p>20 rows × 4 columns</p><tr><th>1</th><td>0.878577</td><td>8.06605</td><td>7.0</td><td>Group1</td></tr><tr><th>2</th><td>0.488354</td><td>11.9355</td><td>11.0</td><td>Group2</td></tr><tr><th>3</th><td>0.412494</td><td>11.8381</td><td>9.0</td><td>Group2</td></tr><tr><th>4</th><td>0.835925</td><td>7.59</td><td>12.0</td><td>Group1</td></tr><tr><th>5</th><td>0.685058</td><td>11.586</td><td>9.0</td><td>Group2</td></tr><tr><th>6</th><td>0.063973</td><td>11.2391</td><td>10.0</td><td>Group1</td></tr><tr><th>7</th><td>0.698442</td><td>8.08366</td><td>5.0</td><td>Group2</td></tr><tr><th>8</th><td>0.994817</td><td>8.17779</td><td>10.0</td><td>Group2</td></tr><tr><th>9</th><td>0.748273</td><td>9.90383</td><td>11.0</td><td>Group1</td></tr><tr><th>10</th><td>0.652191</td><td>14.7986</td><td>11.0</td><td>Group1</td></tr><tr><th>11</th><td>0.0428449</td><td>11.8319</td><td>9.0</td><td>Group2</td></tr><tr><th>12</th><td>0.864452</td><td>11.02</td><td>9.0</td><td>Group1</td></tr><tr><th>13</th><td>0.891711</td><td>11.496</td><td>10.0</td><td>Group1</td></tr><tr><th>14</th><td>0.521243</td><td>7.80415</td><td>14.0</td><td>Group2</td></tr><tr><th>15</th><td>0.301125</td><td>7.73562</td><td>14.0</td><td>Group1</td></tr><tr><th>16</th><td>0.517325</td><td>9.44229</td><td>10.0</td><td>Group1</td></tr><tr><th>17</th><td>0.802277</td><td>11.4909</td><td>14.0</td><td>Group1</td></tr><tr><th>18</th><td>0.777462</td><td>8.17799</td><td>9.0</td><td>Group1</td></tr><tr><th>19</th><td>0.808756</td><td>8.57945</td><td>12.0</td><td>Group2</td></tr><tr><th>20</th><td>0.569041</td><td>7.66903</td><td>14.0</td><td>Group1</td></tr></tbody></table>"
      ],
      "text/latex": [
       "\\begin{tabular}{r|cccc}\n",
       "\t& Var1 & Var2 & Var3 & Cat1\\\\\n",
       "\t\\hline\n",
       "\t1 & 0.878577 & 8.06605 & 7.0 & Group1 \\\\\n",
       "\t2 & 0.488354 & 11.9355 & 11.0 & Group2 \\\\\n",
       "\t3 & 0.412494 & 11.8381 & 9.0 & Group2 \\\\\n",
       "\t4 & 0.835925 & 7.59 & 12.0 & Group1 \\\\\n",
       "\t5 & 0.685058 & 11.586 & 9.0 & Group2 \\\\\n",
       "\t6 & 0.063973 & 11.2391 & 10.0 & Group1 \\\\\n",
       "\t7 & 0.698442 & 8.08366 & 5.0 & Group2 \\\\\n",
       "\t8 & 0.994817 & 8.17779 & 10.0 & Group2 \\\\\n",
       "\t9 & 0.748273 & 9.90383 & 11.0 & Group1 \\\\\n",
       "\t10 & 0.652191 & 14.7986 & 11.0 & Group1 \\\\\n",
       "\t11 & 0.0428449 & 11.8319 & 9.0 & Group2 \\\\\n",
       "\t12 & 0.864452 & 11.02 & 9.0 & Group1 \\\\\n",
       "\t13 & 0.891711 & 11.496 & 10.0 & Group1 \\\\\n",
       "\t14 & 0.521243 & 7.80415 & 14.0 & Group2 \\\\\n",
       "\t15 & 0.301125 & 7.73562 & 14.0 & Group1 \\\\\n",
       "\t16 & 0.517325 & 9.44229 & 10.0 & Group1 \\\\\n",
       "\t17 & 0.802277 & 11.4909 & 14.0 & Group1 \\\\\n",
       "\t18 & 0.777462 & 8.17799 & 9.0 & Group1 \\\\\n",
       "\t19 & 0.808756 & 8.57945 & 12.0 & Group2 \\\\\n",
       "\t20 & 0.569041 & 7.66903 & 14.0 & Group1 \\\\\n",
       "\\end{tabular}\n"
      ],
      "text/plain": [
       "20×4 DataFrame\n",
       "│ Row │ Var1      │ Var2    │ Var3    │ Cat1   │\n",
       "│     │ \u001b[90mFloat64\u001b[39m   │ \u001b[90mFloat64\u001b[39m │ \u001b[90mFloat64\u001b[39m │ \u001b[90mString\u001b[39m │\n",
       "├─────┼───────────┼─────────┼─────────┼────────┤\n",
       "│ 1   │ 0.878577  │ 8.06605 │ 7.0     │ Group1 │\n",
       "│ 2   │ 0.488354  │ 11.9355 │ 11.0    │ Group2 │\n",
       "│ 3   │ 0.412494  │ 11.8381 │ 9.0     │ Group2 │\n",
       "│ 4   │ 0.835925  │ 7.59    │ 12.0    │ Group1 │\n",
       "│ 5   │ 0.685058  │ 11.586  │ 9.0     │ Group2 │\n",
       "│ 6   │ 0.063973  │ 11.2391 │ 10.0    │ Group1 │\n",
       "│ 7   │ 0.698442  │ 8.08366 │ 5.0     │ Group2 │\n",
       "│ 8   │ 0.994817  │ 8.17779 │ 10.0    │ Group2 │\n",
       "│ 9   │ 0.748273  │ 9.90383 │ 11.0    │ Group1 │\n",
       "│ 10  │ 0.652191  │ 14.7986 │ 11.0    │ Group1 │\n",
       "│ 11  │ 0.0428449 │ 11.8319 │ 9.0     │ Group2 │\n",
       "│ 12  │ 0.864452  │ 11.02   │ 9.0     │ Group1 │\n",
       "│ 13  │ 0.891711  │ 11.496  │ 10.0    │ Group1 │\n",
       "│ 14  │ 0.521243  │ 7.80415 │ 14.0    │ Group2 │\n",
       "│ 15  │ 0.301125  │ 7.73562 │ 14.0    │ Group1 │\n",
       "│ 16  │ 0.517325  │ 9.44229 │ 10.0    │ Group1 │\n",
       "│ 17  │ 0.802277  │ 11.4909 │ 14.0    │ Group1 │\n",
       "│ 18  │ 0.777462  │ 8.17799 │ 9.0     │ Group1 │\n",
       "│ 19  │ 0.808756  │ 8.57945 │ 12.0    │ Group2 │\n",
       "│ 20  │ 0.569041  │ 7.66903 │ 14.0    │ Group1 │"
      ]
     },
     "execution_count": 17,
     "metadata": {},
     "output_type": "execute_result"
    }
   ],
   "source": [
    "# Question 10: Add a column to df2 named Cat1 to df2 consisting of randomly selecting either the strings GroupA or GroupB\n",
    "df2[:Cat1]=rand([\"Group1\",\"Group2\"],20)\n",
    "df2"
   ]
  },
  {
   "cell_type": "code",
   "execution_count": 34,
   "metadata": {},
   "outputs": [
    {
     "data": {
      "text/html": [
       "<table class=\"data-frame\"><thead><tr><th></th><th>A</th><th>B</th><th>C</th></tr><tr><th></th><th>Int64⍰</th><th>Int64⍰</th><th>Int64⍰</th></tr></thead><tbody><p>20 rows × 3 columns</p><tr><th>1</th><td>1</td><td>21</td><td>41</td></tr><tr><th>2</th><td>2</td><td>22</td><td>42</td></tr><tr><th>3</th><td>3</td><td>23</td><td>43</td></tr><tr><th>4</th><td>4</td><td>24</td><td>44</td></tr><tr><th>5</th><td>5</td><td>25</td><td>45</td></tr><tr><th>6</th><td>6</td><td>26</td><td>46</td></tr><tr><th>7</th><td>7</td><td>27</td><td>47</td></tr><tr><th>8</th><td>8</td><td>28</td><td>48</td></tr><tr><th>9</th><td>9</td><td>29</td><td>49</td></tr><tr><th>10</th><td>10</td><td>30</td><td>50</td></tr><tr><th>11</th><td>11</td><td>31</td><td>51</td></tr><tr><th>12</th><td>12</td><td>32</td><td>52</td></tr><tr><th>13</th><td>13</td><td>33</td><td>53</td></tr><tr><th>14</th><td>14</td><td>34</td><td>54</td></tr><tr><th>15</th><td>15</td><td>35</td><td>55</td></tr><tr><th>16</th><td>16</td><td>36</td><td>56</td></tr><tr><th>17</th><td>17</td><td>37</td><td>57</td></tr><tr><th>18</th><td>18</td><td>38</td><td>58</td></tr><tr><th>19</th><td>19</td><td>39</td><td>59</td></tr><tr><th>20</th><td>20</td><td>40</td><td>60</td></tr></tbody></table>"
      ],
      "text/latex": [
       "\\begin{tabular}{r|ccc}\n",
       "\t& A & B & C\\\\\n",
       "\t\\hline\n",
       "\t1 & 1 & 21 & 41 \\\\\n",
       "\t2 & 2 & 22 & 42 \\\\\n",
       "\t3 & 3 & 23 & 43 \\\\\n",
       "\t4 & 4 & 24 & 44 \\\\\n",
       "\t5 & 5 & 25 & 45 \\\\\n",
       "\t6 & 6 & 26 & 46 \\\\\n",
       "\t7 & 7 & 27 & 47 \\\\\n",
       "\t8 & 8 & 28 & 48 \\\\\n",
       "\t9 & 9 & 29 & 49 \\\\\n",
       "\t10 & 10 & 30 & 50 \\\\\n",
       "\t11 & 11 & 31 & 51 \\\\\n",
       "\t12 & 12 & 32 & 52 \\\\\n",
       "\t13 & 13 & 33 & 53 \\\\\n",
       "\t14 & 14 & 34 & 54 \\\\\n",
       "\t15 & 15 & 35 & 55 \\\\\n",
       "\t16 & 16 & 36 & 56 \\\\\n",
       "\t17 & 17 & 37 & 57 \\\\\n",
       "\t18 & 18 & 38 & 58 \\\\\n",
       "\t19 & 19 & 39 & 59 \\\\\n",
       "\t20 & 20 & 40 & 60 \\\\\n",
       "\\end{tabular}\n"
      ],
      "text/plain": [
       "20×3 DataFrame\n",
       "│ Row │ A      │ B      │ C      │\n",
       "│     │ \u001b[90mInt64⍰\u001b[39m │ \u001b[90mInt64⍰\u001b[39m │ \u001b[90mInt64⍰\u001b[39m │\n",
       "├─────┼────────┼────────┼────────┤\n",
       "│ 1   │ 1      │ 21     │ 41     │\n",
       "│ 2   │ 2      │ 22     │ 42     │\n",
       "│ 3   │ 3      │ 23     │ 43     │\n",
       "│ 4   │ 4      │ 24     │ 44     │\n",
       "│ 5   │ 5      │ 25     │ 45     │\n",
       "│ 6   │ 6      │ 26     │ 46     │\n",
       "│ 7   │ 7      │ 27     │ 47     │\n",
       "│ 8   │ 8      │ 28     │ 48     │\n",
       "│ 9   │ 9      │ 29     │ 49     │\n",
       "│ 10  │ 10     │ 30     │ 50     │\n",
       "│ 11  │ 11     │ 31     │ 51     │\n",
       "│ 12  │ 12     │ 32     │ 52     │\n",
       "│ 13  │ 13     │ 33     │ 53     │\n",
       "│ 14  │ 14     │ 34     │ 54     │\n",
       "│ 15  │ 15     │ 35     │ 55     │\n",
       "│ 16  │ 16     │ 36     │ 56     │\n",
       "│ 17  │ 17     │ 37     │ 57     │\n",
       "│ 18  │ 18     │ 38     │ 58     │\n",
       "│ 19  │ 19     │ 39     │ 59     │\n",
       "│ 20  │ 20     │ 40     │ 60     │"
      ]
     },
     "execution_count": 34,
     "metadata": {},
     "output_type": "execute_result"
    }
   ],
   "source": [
    "# Question 11: Create a new DataFrame named df3\n",
    "# Question 11: Create a new DataFrame named df3\n",
    "# df3=DataFrame(A=Union{Int64,Missings.Missing}[1, 2 ,3,missing],B=Union{Int64,Missings.Missing}[4 ,5, 6,missing],C=Union{Int64,Missings.Missing}[1 ,2 ,2,missing])\n",
    "# df3[:A]=1:20\n",
    "# df3[:B]=21:40\n",
    "# df3[:C]=41:60\n",
    "# df3=DataFrame(:A=>1:20,:B=>21:40,:C=>41:60,eltypes=[Union{Int64,Missings.Missing},Union{Int64,Missings.Missing},Union{Int64,Missings.Missing}])\n",
    "df3=DataFrame(A=Union{Int64,Missings.Missing}[],B=Union{Int64,Missings.Missing}[],C=Union{Int64,Missings.Missing}[])\n",
    "df3 = vcat(df3, DataFrame(A=1:20, B=21:40, C=41:60))\n",
    "# showcols(df3)\n",
    "df3\n"
   ]
  },
  {
   "cell_type": "code",
   "execution_count": 39,
   "metadata": {},
   "outputs": [
    {
     "data": {
      "text/html": [
       "<table class=\"data-frame\"><thead><tr><th></th><th>A</th><th>B</th><th>C</th></tr><tr><th></th><th>Int64⍰</th><th>Int64⍰</th><th>Int64⍰</th></tr></thead><tbody><p>20 rows × 3 columns</p><tr><th>1</th><td>1</td><td>21</td><td>41</td></tr><tr><th>2</th><td>2</td><td>22</td><td>42</td></tr><tr><th>3</th><td>3</td><td>23</td><td>43</td></tr><tr><th>4</th><td>4</td><td>24</td><td>44</td></tr><tr><th>5</th><td>5</td><td>25</td><td>45</td></tr><tr><th>6</th><td>6</td><td>26</td><td>46</td></tr><tr><th>7</th><td>7</td><td>27</td><td>47</td></tr><tr><th>8</th><td>8</td><td>28</td><td>48</td></tr><tr><th>9</th><td>9</td><td>29</td><td>49</td></tr><tr><th>10</th><td>missing</td><td>30</td><td>50</td></tr><tr><th>11</th><td>11</td><td>31</td><td>51</td></tr><tr><th>12</th><td>12</td><td>32</td><td>52</td></tr><tr><th>13</th><td>13</td><td>33</td><td>53</td></tr><tr><th>14</th><td>14</td><td>34</td><td>54</td></tr><tr><th>15</th><td>15</td><td>missing</td><td>55</td></tr><tr><th>16</th><td>16</td><td>36</td><td>56</td></tr><tr><th>17</th><td>17</td><td>37</td><td>57</td></tr><tr><th>18</th><td>18</td><td>38</td><td>58</td></tr><tr><th>19</th><td>19</td><td>39</td><td>missing</td></tr><tr><th>20</th><td>20</td><td>40</td><td>60</td></tr></tbody></table>"
      ],
      "text/latex": [
       "\\begin{tabular}{r|ccc}\n",
       "\t& A & B & C\\\\\n",
       "\t\\hline\n",
       "\t1 & 1 & 21 & 41 \\\\\n",
       "\t2 & 2 & 22 & 42 \\\\\n",
       "\t3 & 3 & 23 & 43 \\\\\n",
       "\t4 & 4 & 24 & 44 \\\\\n",
       "\t5 & 5 & 25 & 45 \\\\\n",
       "\t6 & 6 & 26 & 46 \\\\\n",
       "\t7 & 7 & 27 & 47 \\\\\n",
       "\t8 & 8 & 28 & 48 \\\\\n",
       "\t9 & 9 & 29 & 49 \\\\\n",
       "\t10 &  & 30 & 50 \\\\\n",
       "\t11 & 11 & 31 & 51 \\\\\n",
       "\t12 & 12 & 32 & 52 \\\\\n",
       "\t13 & 13 & 33 & 53 \\\\\n",
       "\t14 & 14 & 34 & 54 \\\\\n",
       "\t15 & 15 &  & 55 \\\\\n",
       "\t16 & 16 & 36 & 56 \\\\\n",
       "\t17 & 17 & 37 & 57 \\\\\n",
       "\t18 & 18 & 38 & 58 \\\\\n",
       "\t19 & 19 & 39 &  \\\\\n",
       "\t20 & 20 & 40 & 60 \\\\\n",
       "\\end{tabular}\n"
      ],
      "text/plain": [
       "20×3 DataFrame\n",
       "│ Row │ A       │ B       │ C       │\n",
       "│     │ \u001b[90mInt64⍰\u001b[39m  │ \u001b[90mInt64⍰\u001b[39m  │ \u001b[90mInt64⍰\u001b[39m  │\n",
       "├─────┼─────────┼─────────┼─────────┤\n",
       "│ 1   │ 1       │ 21      │ 41      │\n",
       "│ 2   │ 2       │ 22      │ 42      │\n",
       "│ 3   │ 3       │ 23      │ 43      │\n",
       "│ 4   │ 4       │ 24      │ 44      │\n",
       "│ 5   │ 5       │ 25      │ 45      │\n",
       "│ 6   │ 6       │ 26      │ 46      │\n",
       "│ 7   │ 7       │ 27      │ 47      │\n",
       "│ 8   │ 8       │ 28      │ 48      │\n",
       "│ 9   │ 9       │ 29      │ 49      │\n",
       "│ 10  │ \u001b[90mmissing\u001b[39m │ 30      │ 50      │\n",
       "│ 11  │ 11      │ 31      │ 51      │\n",
       "│ 12  │ 12      │ 32      │ 52      │\n",
       "│ 13  │ 13      │ 33      │ 53      │\n",
       "│ 14  │ 14      │ 34      │ 54      │\n",
       "│ 15  │ 15      │ \u001b[90mmissing\u001b[39m │ 55      │\n",
       "│ 16  │ 16      │ 36      │ 56      │\n",
       "│ 17  │ 17      │ 37      │ 57      │\n",
       "│ 18  │ 18      │ 38      │ 58      │\n",
       "│ 19  │ 19      │ 39      │ \u001b[90mmissing\u001b[39m │\n",
       "│ 20  │ 20      │ 40      │ 60      │"
      ]
     },
     "execution_count": 39,
     "metadata": {},
     "output_type": "execute_result"
    }
   ],
   "source": [
    "# using DataArrays\n",
    "# Question 12: Change indicated values to empty entries\n",
    "#In a code cells below, \n",
    "#change the values in df3df3 of the following cells to NA: \n",
    "#row 10, column 1, row 15, column 2 and row 19, column 3\n",
    "\n",
    "df3[10,:A]=missing\n",
    "df3[15,:B]=missing\n",
    "df3[19,:C]=missing\n",
    "df3"
   ]
  },
  {
   "cell_type": "code",
   "execution_count": 40,
   "metadata": {},
   "outputs": [
    {
     "data": {
      "text/html": [
       "<table class=\"data-frame\"><thead><tr><th></th><th>A</th><th>B</th><th>C</th></tr><tr><th></th><th>Int64⍰</th><th>Int64⍰</th><th>Int64⍰</th></tr></thead><tbody><p>17 rows × 3 columns</p><tr><th>1</th><td>1</td><td>21</td><td>41</td></tr><tr><th>2</th><td>2</td><td>22</td><td>42</td></tr><tr><th>3</th><td>3</td><td>23</td><td>43</td></tr><tr><th>4</th><td>4</td><td>24</td><td>44</td></tr><tr><th>5</th><td>5</td><td>25</td><td>45</td></tr><tr><th>6</th><td>6</td><td>26</td><td>46</td></tr><tr><th>7</th><td>7</td><td>27</td><td>47</td></tr><tr><th>8</th><td>8</td><td>28</td><td>48</td></tr><tr><th>9</th><td>9</td><td>29</td><td>49</td></tr><tr><th>10</th><td>11</td><td>31</td><td>51</td></tr><tr><th>11</th><td>12</td><td>32</td><td>52</td></tr><tr><th>12</th><td>13</td><td>33</td><td>53</td></tr><tr><th>13</th><td>14</td><td>34</td><td>54</td></tr><tr><th>14</th><td>16</td><td>36</td><td>56</td></tr><tr><th>15</th><td>17</td><td>37</td><td>57</td></tr><tr><th>16</th><td>18</td><td>38</td><td>58</td></tr><tr><th>17</th><td>20</td><td>40</td><td>60</td></tr></tbody></table>"
      ],
      "text/latex": [
       "\\begin{tabular}{r|ccc}\n",
       "\t& A & B & C\\\\\n",
       "\t\\hline\n",
       "\t1 & 1 & 21 & 41 \\\\\n",
       "\t2 & 2 & 22 & 42 \\\\\n",
       "\t3 & 3 & 23 & 43 \\\\\n",
       "\t4 & 4 & 24 & 44 \\\\\n",
       "\t5 & 5 & 25 & 45 \\\\\n",
       "\t6 & 6 & 26 & 46 \\\\\n",
       "\t7 & 7 & 27 & 47 \\\\\n",
       "\t8 & 8 & 28 & 48 \\\\\n",
       "\t9 & 9 & 29 & 49 \\\\\n",
       "\t10 & 11 & 31 & 51 \\\\\n",
       "\t11 & 12 & 32 & 52 \\\\\n",
       "\t12 & 13 & 33 & 53 \\\\\n",
       "\t13 & 14 & 34 & 54 \\\\\n",
       "\t14 & 16 & 36 & 56 \\\\\n",
       "\t15 & 17 & 37 & 57 \\\\\n",
       "\t16 & 18 & 38 & 58 \\\\\n",
       "\t17 & 20 & 40 & 60 \\\\\n",
       "\\end{tabular}\n"
      ],
      "text/plain": [
       "17×3 DataFrame\n",
       "│ Row │ A      │ B      │ C      │\n",
       "│     │ \u001b[90mInt64⍰\u001b[39m │ \u001b[90mInt64⍰\u001b[39m │ \u001b[90mInt64⍰\u001b[39m │\n",
       "├─────┼────────┼────────┼────────┤\n",
       "│ 1   │ 1      │ 21     │ 41     │\n",
       "│ 2   │ 2      │ 22     │ 42     │\n",
       "│ 3   │ 3      │ 23     │ 43     │\n",
       "│ 4   │ 4      │ 24     │ 44     │\n",
       "│ 5   │ 5      │ 25     │ 45     │\n",
       "│ 6   │ 6      │ 26     │ 46     │\n",
       "│ 7   │ 7      │ 27     │ 47     │\n",
       "│ 8   │ 8      │ 28     │ 48     │\n",
       "│ 9   │ 9      │ 29     │ 49     │\n",
       "│ 10  │ 11     │ 31     │ 51     │\n",
       "│ 11  │ 12     │ 32     │ 52     │\n",
       "│ 12  │ 13     │ 33     │ 53     │\n",
       "│ 13  │ 14     │ 34     │ 54     │\n",
       "│ 14  │ 16     │ 36     │ 56     │\n",
       "│ 15  │ 17     │ 37     │ 57     │\n",
       "│ 16  │ 18     │ 38     │ 58     │\n",
       "│ 17  │ 20     │ 40     │ 60     │"
      ]
     },
     "execution_count": 40,
     "metadata": {},
     "output_type": "execute_result"
    }
   ],
   "source": [
    "# Question 13: Create DataFrame df4 that contains no rows with NaN (NA) values\n",
    "df4=dropmissing(df3)"
   ]
  },
  {
   "cell_type": "code",
   "execution_count": null,
   "metadata": {},
   "outputs": [],
   "source": []
  }
 ],
 "metadata": {
  "kernelspec": {
   "display_name": "Julia 1.0.3",
   "language": "julia",
   "name": "julia-1.0"
  },
  "language_info": {
   "file_extension": ".jl",
   "mimetype": "application/julia",
   "name": "julia",
   "version": "1.0.3"
  }
 },
 "nbformat": 4,
 "nbformat_minor": 1
}
